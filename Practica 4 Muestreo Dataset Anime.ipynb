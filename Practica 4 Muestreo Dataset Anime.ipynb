{
 "cells": [
  {
   "cell_type": "code",
   "execution_count": 2,
   "id": "b4c28443",
   "metadata": {},
   "outputs": [],
   "source": [
    "#Database muy pesado, se importa en una cantidad limitada.\n",
    "\n",
    "import pandas as pd\n",
    "\n",
    "reader = pd.read_csv('final_animedataset.csv',chunksize=10000)\n",
    "\n",
    "#for batch in df:\n",
    "\n",
    "   # print(batch.head(5))"
   ]
  },
  {
   "cell_type": "code",
   "execution_count": 3,
   "id": "838a7a93",
   "metadata": {},
   "outputs": [
    {
     "name": "stdout",
     "output_type": "stream",
     "text": [
      "username\n",
      "anime_id\n",
      "my_score\n",
      "user_id\n",
      "gender\n",
      "title\n",
      "type\n",
      "source\n",
      "score\n",
      "scored_by\n",
      "rank\n",
      "popularity\n",
      "genre\n"
     ]
    }
   ],
   "source": [
    "# Obtener el primer chunk de datos y sus columnas\n",
    "df = next(reader)\n",
    "columnas = df.columns\n",
    "\n",
    "\n",
    "# Imprimir las variables (columnas)\n",
    "for columna in columnas:\n",
    "    print(columna)"
   ]
  },
  {
   "cell_type": "code",
   "execution_count": 4,
   "id": "3b5222ad",
   "metadata": {},
   "outputs": [],
   "source": [
    "#Muestreo probabilístico\n",
    "#1) Por CLUSTERS\n",
    "\n",
    "from sklearn.utils import resample"
   ]
  },
  {
   "cell_type": "code",
   "execution_count": 5,
   "id": "96e5ad54",
   "metadata": {},
   "outputs": [],
   "source": [
    "# Crear la variable X con todas las columnas excepto 'username'\n",
    "X = df.drop('username', axis=1)\n",
    "\n",
    "# Crear la variable Y con solo la columna 'username'\n",
    "y = df['username']"
   ]
  },
  {
   "cell_type": "code",
   "execution_count": 6,
   "id": "57f2f79d",
   "metadata": {},
   "outputs": [],
   "source": [
    "X_resampled, y_resampled = resample(X, y,\n",
    "                                    replace=True,  # Permitir reemplazo en el remuestreo\n",
    "                                    n_samples=1000,  # Tamaño de la nueva muestra\n",
    "                                    random_state=42,  # Semilla aleatoria para reproducibilidad\n",
    "                                    stratify=y)  # Remuestreo estratificado según las etiquetas\n"
   ]
  },
  {
   "cell_type": "code",
   "execution_count": 7,
   "id": "8a2bcf0a",
   "metadata": {},
   "outputs": [],
   "source": [
    "X_resampled, y_resampled = resample(X, y)"
   ]
  },
  {
   "cell_type": "code",
   "execution_count": 9,
   "id": "5c1d89d7",
   "metadata": {},
   "outputs": [],
   "source": [
    "df_resampled = resample(df, replace=True, n_samples=1000, random_state=42)"
   ]
  },
  {
   "cell_type": "code",
   "execution_count": 10,
   "id": "3c6d44ff",
   "metadata": {},
   "outputs": [
    {
     "data": {
      "text/plain": [
       "<AxesSubplot:ylabel='Frequency'>"
      ]
     },
     "execution_count": 10,
     "metadata": {},
     "output_type": "execute_result"
    },
    {
     "data": {
      "image/png": "[encoded data removed]",
      "text/plain": [
       "<Figure size 432x288 with 1 Axes>"
      ]
     },
     "metadata": {
      "needs_background": "light"
     },
     "output_type": "display_data"
    }
   ],
   "source": [
    "df_resampled.plot(kind='hist', y='anime_id')"
   ]
  },
  {
   "cell_type": "code",
   "execution_count": 12,
   "id": "b030bac8",
   "metadata": {},
   "outputs": [
    {
     "name": "stdout",
     "output_type": "stream",
     "text": [
      "[   0    1    2 ... 9997 9998 9999]\n"
     ]
    }
   ],
   "source": [
    "#Muestreo No Probabilistico\n",
    "#2)Sistematico\n",
    "\n",
    "\n",
    "import numpy as np\n",
    "\n",
    "# Crear un arreglo de valores en un rango especificado\n",
    "inicio = 15000\n",
    "fin = 80000\n",
    "paso = 3\n",
    "arreglo = np.arange(inicio, fin, paso)\n",
    "\n",
    "arreglo = np.arange(len(df['anime_id']))\n",
    "print(arreglo)\n"
   ]
  },
  {
   "cell_type": "code",
   "execution_count": 15,
   "id": "b3732eb7",
   "metadata": {},
   "outputs": [],
   "source": [
    "#Muestreo No Probabilistico\n",
    "#3) Con PROPOSITO\n",
    "\n",
    "\n",
    "df_resampled_2 = df[df[\"popularity\"] < 2000]\n",
    "\n"
   ]
  },
  {
   "cell_type": "code",
   "execution_count": 17,
   "id": "bdef4a3e",
   "metadata": {},
   "outputs": [],
   "source": [
    "\n",
    "#Muestreo No Probabilistico\n",
    "#4) Con CUOTA\n",
    "\n",
    "import random\n",
    "cuotas = {\n",
    "    'gender': {'Female': 60, 'Male': 40},\n",
    "    'type': {'TV': 50, 'Movie': 30, 'OVA': 20},\n",
    "    # Agrega las cuotas para las otras variables...\n",
    "}\n",
    "\n",
    "\n",
    "muestra_cuotas = []\n",
    "\n",
    "# Función para verificar si se han cumplido las cuotas para todas las variables\n",
    "def cumplir_cuotas(muestra_cuotas, cuotas):\n",
    "    for variable, categorias in cuotas.items():\n",
    "        for categoria, cuota in categorias.items():\n",
    "            if sum(1 for row in muestra_cuotas if row[variable] == categoria) >= cuota:\n",
    "                return True\n",
    "    return False\n",
    "\n",
    "\n",
    "contador_datos = 0\n",
    "\n",
    "# Realizar el muestreo por cuota hasta alcanzar al menos 1000 datos\n",
    "while contador_datos < 1000:\n",
    "    for _, row in df.iterrows():\n",
    "        participante = {\n",
    "            'username': row['username'],\n",
    "            'anime_id': row['anime_id'],\n",
    "            'my_score': row['my_score'],\n",
    "            'user_id': row['user_id'],\n",
    "            'gender': row['gender'],\n",
    "            'title': row['title'],\n",
    "            'type': row['type'],\n",
    "            'source': row['source'],\n",
    "            'score': row['score'],\n",
    "            'scored_by': row['scored_by'],\n",
    "            'rank': row['rank'],\n",
    "            'popularity': row['popularity']\n",
    "        }\n",
    "        muestra_cuotas.append(participante)\n",
    "        contador_datos += 1\n",
    "        \n",
    "        if cumplir_cuotas(muestra_cuotas, cuotas) and contador_datos >= 1000:\n",
    "            break\n",
    "\n",
    "\n",
    "df_muestra_cuotas = pd.DataFrame(muestra_cuotas)"
   ]
  },
  {
   "cell_type": "code",
   "execution_count": 18,
   "id": "4f09d977",
   "metadata": {},
   "outputs": [
    {
     "data": {
      "text/plain": [
       "10000"
      ]
     },
     "execution_count": 18,
     "metadata": {},
     "output_type": "execute_result"
    }
   ],
   "source": [
    "df.shape[0]"
   ]
  },
  {
   "cell_type": "code",
   "execution_count": 22,
   "id": "62c34f4a",
   "metadata": {},
   "outputs": [
    {
     "data": {
      "text/plain": [
       "2026.5418"
      ]
     },
     "execution_count": 22,
     "metadata": {},
     "output_type": "execute_result"
    }
   ],
   "source": [
    "df[\"popularity\"].mean()"
   ]
  },
  {
   "cell_type": "code",
   "execution_count": 34,
   "id": "9ddd11d7",
   "metadata": {},
   "outputs": [
    {
     "data": {
      "text/plain": [
       "1987.9870460096772"
      ]
     },
     "execution_count": 34,
     "metadata": {},
     "output_type": "execute_result"
    }
   ],
   "source": [
    "df[\"popularity\"].std() "
   ]
  },
  {
   "cell_type": "code",
   "execution_count": 19,
   "id": "8d053608",
   "metadata": {},
   "outputs": [
    {
     "data": {
      "text/plain": [
       "1000"
      ]
     },
     "execution_count": 19,
     "metadata": {},
     "output_type": "execute_result"
    }
   ],
   "source": [
    "#Muestreo No Probabilistico\n",
    "df_muestra_cuotas.shape[0]"
   ]
  },
  {
   "cell_type": "code",
   "execution_count": 23,
   "id": "0f55c7ae",
   "metadata": {},
   "outputs": [
    {
     "data": {
      "text/plain": [
       "1007.261"
      ]
     },
     "execution_count": 23,
     "metadata": {},
     "output_type": "execute_result"
    }
   ],
   "source": [
    "#Muestreo No Probabilistico\n",
    "df_muestra_cuotas[\"popularity\"].mean()"
   ]
  },
  {
   "cell_type": "code",
   "execution_count": 30,
   "id": "cabe6cf3",
   "metadata": {},
   "outputs": [
    {
     "data": {
      "text/plain": [
       "1206.8155785867696"
      ]
     },
     "execution_count": 30,
     "metadata": {},
     "output_type": "execute_result"
    }
   ],
   "source": [
    "#Muestreo No Probabilistico\n",
    "df_muestra_cuotas[\"popularity\"].std()"
   ]
  },
  {
   "cell_type": "code",
   "execution_count": 20,
   "id": "97c3d0d6",
   "metadata": {},
   "outputs": [
    {
     "data": {
      "text/plain": [
       "1000"
      ]
     },
     "execution_count": 20,
     "metadata": {},
     "output_type": "execute_result"
    }
   ],
   "source": [
    "#Muestreo Probabilístico\n",
    "df_resampled.shape[0]"
   ]
  },
  {
   "cell_type": "code",
   "execution_count": 31,
   "id": "c40d55a7",
   "metadata": {},
   "outputs": [
    {
     "data": {
      "text/plain": [
       "2012.585"
      ]
     },
     "execution_count": 31,
     "metadata": {},
     "output_type": "execute_result"
    }
   ],
   "source": [
    "#Muestreo Probabilístico\n",
    "df_resampled[\"popularity\"].mean()"
   ]
  },
  {
   "cell_type": "code",
   "execution_count": 33,
   "id": "649fb04d",
   "metadata": {},
   "outputs": [
    {
     "data": {
      "text/plain": [
       "1984.5612164901825"
      ]
     },
     "execution_count": 33,
     "metadata": {},
     "output_type": "execute_result"
    }
   ],
   "source": [
    "#Muestreo Probabilístico\n",
    "df_resampled[\"popularity\"].std()"
   ]
  }
 ],
 "metadata": {
  "kernelspec": {
   "display_name": "Python 3 (ipykernel)",
   "language": "python",
   "name": "python3"
  },
  "language_info": {
   "codemirror_mode": {
    "name": "ipython",
    "version": 3
   },
   "file_extension": ".py",
   "mimetype": "text/x-python",
   "name": "python",
   "nbconvert_exporter": "python",
   "pygments_lexer": "ipython3",
   "version": "3.9.7"
  }
 },
 "nbformat": 4,
 "nbformat_minor": 5
}
