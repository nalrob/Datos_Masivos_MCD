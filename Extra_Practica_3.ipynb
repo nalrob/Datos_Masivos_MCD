{
  "nbformat": 4,
  "nbformat_minor": 0,
  "metadata": {
    "colab": {
      "provenance": [],
      "authorship_tag": "ABX9TyPGgRguHA2/3dEz9jPkyhv9",
      "include_colab_link": true
    },
    "kernelspec": {
      "name": "python3",
      "display_name": "Python 3"
    },
    "language_info": {
      "name": "python"
    }
  },
  "cells": [
    {
      "cell_type": "markdown",
      "metadata": {
        "id": "view-in-github",
        "colab_type": "text"
      },
      "source": [
        "<a href=\"https://colab.research.google.com/github/nalrob/Datos_Masivos_MCD/blob/main/Extra_Practica_3.ipynb\" target=\"_parent\"><img src=\"https://colab.research.google.com/assets/colab-badge.svg\" alt=\"Open In Colab\"/></a>"
      ]
    },
    {
      "cell_type": "markdown",
      "source": [
        "Azure Cognitive Services"
      ],
      "metadata": {
        "id": "848-mNHuEPlR"
      }
    },
    {
      "cell_type": "markdown",
      "source": [
        "Es un conjunto de servicios en la nube que permiten agregar capacidades de inteligencia artificial (IA) a aplicaciones sin necesidad de tener experiencia en el desarrollo de algoritmos complejos. Estos servicios proporcionan API y herramientas reentrenadas que pueden procesar y analizar datos no estructurados, como imágenes, texto, voz y video, para obtener información significativa y realizar tareas específicas.\n",
        "Paso a paso lo que realiza es crear una instancia de servicio, obtener las claves de acceso, integra los servicios en tu aplicación y por ultimo envía solicitudes y recibe respuestas\n",
        "Entiendo que una de sus aplicaciones es el análisis de voz  para realizar tareas como transcripción de voz a texto, análisis de sentimientos en voz, detección de idioma y generación de voz sintética.\n",
        "\n",
        "\n",
        "\n",
        "\n",
        "\n",
        "Se me haría muy interesante realizar un proyecto de reconocimiento de voz pero con un enfoque a la música, que se entrene con una base de canciones y después de esto, cuando escuche otra canción o incluso una entrevista del mismo pueda detectar de que artista se trata.  \n"
      ],
      "metadata": {
        "id": "eVb6GWswEQug"
      }
    }
  ]
}