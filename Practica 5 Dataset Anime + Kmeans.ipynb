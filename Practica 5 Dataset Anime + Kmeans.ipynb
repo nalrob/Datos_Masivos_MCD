{
 "cells": [
  {
   "cell_type": "code",
   "execution_count": 86,
   "id": "b4c28443",
   "metadata": {},
   "outputs": [],
   "source": [
    "#Database muy pesado, se importa en una cantidad limitada.\n",
    "\n",
    "import pandas as pd\n",
    "\n",
    "reader = pd.read_csv('final_animedataset.csv',chunksize=10000)\n",
    "\n",
    "#for batch in df:\n",
    "\n",
    "   # print(batch.head(5))"
   ]
  },
  {
   "cell_type": "code",
   "execution_count": 87,
   "id": "838a7a93",
   "metadata": {},
   "outputs": [
    {
     "name": "stdout",
     "output_type": "stream",
     "text": [
      "username\n",
      "anime_id\n",
      "my_score\n",
      "user_id\n",
      "gender\n",
      "title\n",
      "type\n",
      "source\n",
      "score\n",
      "scored_by\n",
      "rank\n",
      "popularity\n",
      "genre\n"
     ]
    }
   ],
   "source": [
    "# Obtener el primer chunk de datos y sus columnas\n",
    "df = next(reader)\n",
    "columnas = df.columns\n",
    "\n",
    "\n",
    "# Imprimir las variables (columnas)\n",
    "for columna in columnas:\n",
    "    print(columna)"
   ]
  },
  {
   "cell_type": "code",
   "execution_count": 88,
   "id": "3b5222ad",
   "metadata": {},
   "outputs": [],
   "source": [
    "#Muestreo probabilístico\n",
    "#1) Por CLUSTERS\n",
    "\n",
    "from sklearn.utils import resample"
   ]
  },
  {
   "cell_type": "code",
   "execution_count": 94,
   "id": "96e5ad54",
   "metadata": {},
   "outputs": [],
   "source": [
    "# Crear la variable X con todas las columnas excepto 'username'\n",
    "X = df.drop('username', axis=1)\n",
    "\n",
    "# Crear la variable Y con solo la columna 'username'\n",
    "y = df['username']"
   ]
  },
  {
   "cell_type": "code",
   "execution_count": 95,
   "id": "57f2f79d",
   "metadata": {},
   "outputs": [],
   "source": [
    "X_resampled, y_resampled = resample(X, y,\n",
    "                                    replace=True,  # Permitir reemplazo en el remuestreo\n",
    "                                    n_samples=1000,  # Tamaño de la nueva muestra\n",
    "                                    random_state=42,  # Semilla aleatoria para reproducibilidad\n",
    "                                    stratify=y)  # Remuestreo estratificado según las etiquetas\n"
   ]
  },
  {
   "cell_type": "code",
   "execution_count": 96,
   "id": "8a2bcf0a",
   "metadata": {},
   "outputs": [],
   "source": [
    "X_resampled, y_resampled = resample(X, y)"
   ]
  },
  {
   "cell_type": "code",
   "execution_count": 97,
   "id": "5c1d89d7",
   "metadata": {},
   "outputs": [],
   "source": [
    "df_resampled = resample(batch, replace=True, n_samples=1000, random_state=42)"
   ]
  },
  {
   "cell_type": "code",
   "execution_count": 98,
   "id": "3c6d44ff",
   "metadata": {},
   "outputs": [
    {
     "data": {
      "text/plain": [
       "<AxesSubplot:ylabel='Frequency'>"
      ]
     },
     "execution_count": 98,
     "metadata": {},
     "output_type": "execute_result"
    },
    {
     "data": {
      "image/png": "[encoded data removed]",
      "text/plain": [
       "<Figure size 432x288 with 1 Axes>"
      ]
     },
     "metadata": {
      "needs_background": "light"
     },
     "output_type": "display_data"
    }
   ],
   "source": [
    "df_resampled.plot(kind='hist', y='anime_id')"
   ]
  },
  {
   "cell_type": "code",
   "execution_count": 48,
   "id": "b030bac8",
   "metadata": {},
   "outputs": [
    {
     "name": "stdout",
     "output_type": "stream",
     "text": [
      "[   0    1    2 ... 5692 5693 5694]\n"
     ]
    }
   ],
   "source": [
    "#Muestreo No Probabilistico\n",
    "#2)Sistematico\n",
    "\n",
    "\n",
    "import numpy as np\n",
    "\n",
    "# Crear un arreglo de valores en un rango especificado\n",
    "inicio = 15000\n",
    "fin = 80000\n",
    "paso = 3\n",
    "arreglo = np.arange(inicio, fin, paso)\n",
    "\n",
    "arreglo = np.arange(len(batch['anime_id']))\n",
    "print(arreglo)\n"
   ]
  },
  {
   "cell_type": "code",
   "execution_count": 49,
   "id": "b3732eb7",
   "metadata": {},
   "outputs": [],
   "source": [
    "#Muestreo No Probabilistico\n",
    "#3) Con PROPOSITO\n",
    "\n",
    "df_resampled_2 = batch[batch[\"popularity\"] < 2000]\n"
   ]
  },
  {
   "cell_type": "code",
   "execution_count": 50,
   "id": "bdef4a3e",
   "metadata": {},
   "outputs": [
    {
     "name": "stdout",
     "output_type": "stream",
     "text": [
      "            username  anime_id  my_score  user_id gender  \\\n",
      "0    ravi0li-ravi0li     22535         9  6981430   Male   \n",
      "1    ravi0li-ravi0li     22789        10  6981430   Male   \n",
      "2    ravi0li-ravi0li     24031         6  6981430   Male   \n",
      "3    ravi0li-ravi0li     28825         8  6981430   Male   \n",
      "4    ravi0li-ravi0li     31240         0  6981430   Male   \n",
      "..               ...       ...       ...      ...    ...   \n",
      "995         Apolinho     34280         0  4133123   Male   \n",
      "996         Apolinho     34822         7  4133123   Male   \n",
      "997         Apolinho     34902         0  4133123   Male   \n",
      "998         Apolinho     34934         0  4133123   Male   \n",
      "999         Apolinho     35507         0  4133123   Male   \n",
      "\n",
      "                                                 title type        source  \\\n",
      "0                           Kiseijuu: Sei no Kakuritsu   TV         Manga   \n",
      "1                                            Barakamon   TV     Web manga   \n",
      "2                               Denki-gai no Honya-san   TV         Manga   \n",
      "3                                  Himouto! Umaru-chan   TV         Manga   \n",
      "4                Re:Zero kara Hajimeru Isekai Seikatsu   TV   Light novel   \n",
      "..                                                 ...  ...           ...   \n",
      "995                                            Gamers!   TV   Light novel   \n",
      "996                                     Tsuki ga Kirei   TV      Original   \n",
      "997                                 Tsurezure Children   TV  4-koma manga   \n",
      "998                                         Koi to Uso   TV         Manga   \n",
      "999  Youkoso Jitsuryoku Shijou Shugi no Kyoushitsu ...   TV   Light novel   \n",
      "\n",
      "     score  scored_by    rank  popularity  \n",
      "0     8.52     410107    94.0          42  \n",
      "1     8.47     176274   115.0         176  \n",
      "2     7.27      34590  2517.0        1035  \n",
      "3     7.40     147953  2022.0         247  \n",
      "4     8.43     438250   153.0          36  \n",
      "..     ...        ...     ...         ...  \n",
      "995   7.25     115831  2609.0         317  \n",
      "996   8.35      76357   195.0         474  \n",
      "997   7.89     115567   728.0         311  \n",
      "998   6.81      63615  4276.0         553  \n",
      "999   7.93     119405   668.0         354  \n",
      "\n",
      "[1000 rows x 12 columns]\n"
     ]
    }
   ],
   "source": [
    "\n",
    "#Muestreo No Probabilistico\n",
    "#4) Con CUOTA\n",
    "\n",
    "import random\n",
    "cuotas = {\n",
    "    'gender': {'Female': 60, 'Male': 40},\n",
    "    'type': {'TV': 50, 'Movie': 30, 'OVA': 20},\n",
    "    # Agrega las cuotas para las otras variables...\n",
    "}\n",
    "\n",
    "\n",
    "muestra_cuotas = []\n",
    "\n",
    "# Función para verificar si se han cumplido las cuotas para todas las variables\n",
    "def cumplir_cuotas(muestra_cuotas, cuotas):\n",
    "    for variable, categorias in cuotas.items():\n",
    "        for categoria, cuota in categorias.items():\n",
    "            if sum(1 for row in muestra_cuotas if row[variable] == categoria) >= cuota:\n",
    "                return True\n",
    "    return False\n",
    "\n",
    "\n",
    "contador_datos = 0\n",
    "\n",
    "# Realizar el muestreo por cuota hasta alcanzar al menos 1000 datos\n",
    "while contador_datos < 1000:\n",
    "    for _, row in batch.iterrows():\n",
    "        participante = {\n",
    "            'username': row['username'],\n",
    "            'anime_id': row['anime_id'],\n",
    "            'my_score': row['my_score'],\n",
    "            'user_id': row['user_id'],\n",
    "            'gender': row['gender'],\n",
    "            'title': row['title'],\n",
    "            'type': row['type'],\n",
    "            'source': row['source'],\n",
    "            'score': row['score'],\n",
    "            'scored_by': row['scored_by'],\n",
    "            'rank': row['rank'],\n",
    "            'popularity': row['popularity']\n",
    "        }\n",
    "        muestra_cuotas.append(participante)\n",
    "        contador_datos += 1\n",
    "        \n",
    "        if cumplir_cuotas(muestra_cuotas, cuotas) and contador_datos >= 1000:\n",
    "            break\n",
    "\n",
    "\n",
    "df_muestra_cuotas = pd.DataFrame(muestra_cuotas)"
   ]
  },
  {
   "cell_type": "code",
   "execution_count": 99,
   "id": "4f09d977",
   "metadata": {},
   "outputs": [
    {
     "data": {
      "text/plain": [
       "10000"
      ]
     },
     "execution_count": 99,
     "metadata": {},
     "output_type": "execute_result"
    }
   ],
   "source": [
    "df.shape[0]"
   ]
  },
  {
   "cell_type": "code",
   "execution_count": 52,
   "id": "8d053608",
   "metadata": {},
   "outputs": [
    {
     "data": {
      "text/plain": [
       "1000"
      ]
     },
     "execution_count": 52,
     "metadata": {},
     "output_type": "execute_result"
    }
   ],
   "source": [
    "df_muestra_cuotas.shape[0]"
   ]
  },
  {
   "cell_type": "code",
   "execution_count": 53,
   "id": "97c3d0d6",
   "metadata": {},
   "outputs": [
    {
     "data": {
      "text/plain": [
       "1000"
      ]
     },
     "execution_count": 53,
     "metadata": {},
     "output_type": "execute_result"
    }
   ],
   "source": [
    "df_resampled.shape[0]"
   ]
  },
  {
   "cell_type": "code",
   "execution_count": 54,
   "id": "b2476428",
   "metadata": {},
   "outputs": [
    {
     "data": {
      "text/plain": [
       "2433.745"
      ]
     },
     "execution_count": 54,
     "metadata": {},
     "output_type": "execute_result"
    }
   ],
   "source": [
    "df_resampled[\"popularity\"].mean()"
   ]
  },
  {
   "cell_type": "code",
   "execution_count": 100,
   "id": "62c34f4a",
   "metadata": {},
   "outputs": [
    {
     "data": {
      "text/plain": [
       "2026.5418"
      ]
     },
     "execution_count": 100,
     "metadata": {},
     "output_type": "execute_result"
    }
   ],
   "source": [
    "df[\"popularity\"].mean()"
   ]
  },
  {
   "cell_type": "code",
   "execution_count": 56,
   "id": "0f55c7ae",
   "metadata": {},
   "outputs": [
    {
     "data": {
      "text/plain": [
       "885.498"
      ]
     },
     "execution_count": 56,
     "metadata": {},
     "output_type": "execute_result"
    }
   ],
   "source": [
    "df_muestra_cuotas[\"popularity\"].mean()"
   ]
  },
  {
   "cell_type": "code",
   "execution_count": 102,
   "id": "b201d2e1",
   "metadata": {},
   "outputs": [
    {
     "name": "stdout",
     "output_type": "stream",
     "text": [
      "[[   7.90535336  939.81821618  845.46126228]\n",
      " [   6.27846482 6041.65387349 5650.891258  ]\n",
      " [   7.00305372 3573.69871191 2313.15017279]]\n"
     ]
    }
   ],
   "source": [
    "from sklearn.cluster import KMeans\n",
    "from sklearn.preprocessing import MinMaxScaler\n",
    "import pandas as pd\n",
    "\n",
    "\n",
    "df = df_complete.dropna()  # Eliminar filas con valores faltantes\n",
    "columnas_clustering = ['score','rank','popularity']\n",
    "\n",
    "\n",
    "n_clusters = 3\n",
    "kmeans = KMeans(n_clusters=n_clusters)\n",
    "\n",
    "\n",
    "kb= kmeans.fit(df_complete[columnas_clustering])\n",
    "\n",
    "# Obtener las etiquetas de cluster asignadas a cada muestra\n",
    "etiquetas_clusters_batch = kmeans.labels_\n",
    "\n",
    "# Obtener los centroides de cada cluster\n",
    "centroides_batch = kmeans.cluster_centers_\n",
    "\n",
    "# Agregar las etiquetas de cluster y los centroides al DataFrame original\n",
    "df['cluster'] = etiquetas_clusters_batch\n",
    "\n",
    "\n",
    "print(centroides_batch)"
   ]
  },
  {
   "cell_type": "code",
   "execution_count": 67,
   "id": "16774568",
   "metadata": {},
   "outputs": [
    {
     "name": "stdout",
     "output_type": "stream",
     "text": [
      "[[   7.85894212 1071.73852295  735.03792415]\n",
      " [   6.63320513 4908.81410256 1462.57051282]\n",
      " [   6.76226667 4438.01333333 5097.14666667]]\n"
     ]
    },
    {
     "name": "stderr",
     "output_type": "stream",
     "text": [
      "C:\\Users\\NALLEL~1\\AppData\\Local\\Temp/ipykernel_12664/3001476080.py:20: SettingWithCopyWarning: \n",
      "A value is trying to be set on a copy of a slice from a DataFrame.\n",
      "Try using .loc[row_indexer,col_indexer] = value instead\n",
      "\n",
      "See the caveats in the documentation: https://pandas.pydata.org/pandas-docs/stable/user_guide/indexing.html#returning-a-view-versus-a-copy\n",
      "  df['cluster'] = etiquetas_clusters_rs\n"
     ]
    }
   ],
   "source": [
    "#K-Means muestra por clusters, probabilistica\n",
    "\n",
    "df = df_resampled.dropna()  # Eliminar filas con valores faltantes\n",
    "columnas_clustering = ['score','rank','popularity']\n",
    "\n",
    "\n",
    "n_clusters = 3\n",
    "kmeans = KMeans(n_clusters=n_clusters)\n",
    "\n",
    "\n",
    "krs =kmeans.fit(df[columnas_clustering])\n",
    "\n",
    "# Obtener las etiquetas de cluster asignadas a cada muestra\n",
    "etiquetas_clusters_rs = kmeans.labels_\n",
    "\n",
    "# Obtener los centroides de cada cluster\n",
    "centroides_rs = kmeans.cluster_centers_\n",
    "\n",
    "# Agregar las etiquetas de cluster y los centroides al DataFrame original\n",
    "df['cluster'] = etiquetas_clusters_rs\n",
    "\n",
    "\n",
    "print(centroides_rs)"
   ]
  },
  {
   "cell_type": "code",
   "execution_count": 68,
   "id": "75d838ab",
   "metadata": {},
   "outputs": [
    {
     "name": "stdout",
     "output_type": "stream",
     "text": [
      "[[   8.0072      741.66        367.76142857]\n",
      " [   6.35017544 5812.24561404 5892.50877193]\n",
      " [   7.03120833 3459.24583333 1170.125     ]]\n"
     ]
    },
    {
     "name": "stderr",
     "output_type": "stream",
     "text": [
      "C:\\Users\\NALLEL~1\\AppData\\Local\\Temp/ipykernel_12664/426373284.py:19: SettingWithCopyWarning: \n",
      "A value is trying to be set on a copy of a slice from a DataFrame.\n",
      "Try using .loc[row_indexer,col_indexer] = value instead\n",
      "\n",
      "See the caveats in the documentation: https://pandas.pydata.org/pandas-docs/stable/user_guide/indexing.html#returning-a-view-versus-a-copy\n",
      "  df['cluster'] = etiquetas_clusters_cuota\n"
     ]
    }
   ],
   "source": [
    "#K-Means muestra por cuota, no probabilistica\n",
    "\n",
    "df = df_muestra_cuotas.dropna()  \n",
    "columnas_clustering = ['score','rank','popularity']\n",
    "\n",
    "n_clusters = 3\n",
    "kmeans = KMeans(n_clusters=n_clusters)\n",
    "\n",
    "\n",
    "kc= kmeans.fit(df[columnas_clustering])\n",
    "\n",
    "# Obtener las etiquetas de cluster asignadas a cada muestra\n",
    "etiquetas_clusters_cuota = kmeans.labels_\n",
    "\n",
    "# Obtener los centroides de cada cluster\n",
    "centroides_cuota = kmeans.cluster_centers_\n",
    "\n",
    "# Agregar las etiquetas de cluster y los centroides al DataFrame original\n",
    "df['cluster'] = etiquetas_clusters_cuota\n",
    "\n",
    "\n",
    "print(centroides_cuota)"
   ]
  },
  {
   "cell_type": "code",
   "execution_count": 103,
   "id": "f68f182b",
   "metadata": {},
   "outputs": [
    {
     "name": "stdout",
     "output_type": "stream",
     "text": [
      "Suma de cuadrados del KMEANS con el database sin filtrar: 25300994365.734077\n",
      "Suma de cuadrados para el KMEANS usando muestreo probabilistico (WCSS): 1611542453.396067\n",
      "Suma de cuadrados para el KMEANS usando muestreo no probabilistico (WCSS): 1490590622.5101817\n"
     ]
    }
   ],
   "source": [
    "wcss_b = kb.inertia_\n",
    "wcss_rs = krs.inertia_\n",
    "wcss_c = kc.inertia_\n",
    "\n",
    "print(\"Suma de cuadrados del KMEANS con el database sin filtrar:\", wcss_b)\n",
    "print(\"Suma de cuadrados para el KMEANS usando muestreo probabilistico (WCSS):\", wcss_rs)\n",
    "print(\"Suma de cuadrados para el KMEANS usando muestreo no probabilistico (WCSS):\", wcss_c)"
   ]
  },
  {
   "cell_type": "code",
   "execution_count": null,
   "id": "6697ff83",
   "metadata": {},
   "outputs": [],
   "source": [
    "#Conclusión:\n",
    "#Se puede observar que la suma de cuadrados es menor en los casos donde se aplicó algún tipo de muestreo, \n",
    "#lo que sugiere que los clusters obtenidos en esas situaciones son más coherentes que los obtenidos en el conjunto de datos\n",
    "#sin filtrar."
   ]
  }
 ],
 "metadata": {
  "kernelspec": {
   "display_name": "Python 3 (ipykernel)",
   "language": "python",
   "name": "python3"
  },
  "language_info": {
   "codemirror_mode": {
    "name": "ipython",
    "version": 3
   },
   "file_extension": ".py",
   "mimetype": "text/x-python",
   "name": "python",
   "nbconvert_exporter": "python",
   "pygments_lexer": "ipython3",
   "version": "3.9.7"
  }
 },
 "nbformat": 4,
 "nbformat_minor": 5
}
