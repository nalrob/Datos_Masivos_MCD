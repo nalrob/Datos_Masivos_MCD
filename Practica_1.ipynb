{
  "nbformat": 4,
  "nbformat_minor": 0,
  "metadata": {
    "colab": {
      "provenance": [],
      "private_outputs": true,
      "authorship_tag": "ABX9TyMPhvJsE+67alcT7tAp7ybw",
      "include_colab_link": true
    },
    "kernelspec": {
      "name": "python3",
      "display_name": "Python 3"
    },
    "language_info": {
      "name": "python"
    },
    "accelerator": "TPU",
    "gpuClass": "standard"
  },
  "cells": [
    {
      "cell_type": "markdown",
      "metadata": {
        "id": "view-in-github",
        "colab_type": "text"
      },
      "source": [
        "<a href=\"https://colab.research.google.com/github/nalrob/Datos_Masivos_MCD/blob/main/Practica_1.ipynb\" target=\"_parent\"><img src=\"https://colab.research.google.com/assets/colab-badge.svg\" alt=\"Open In Colab\"/></a>"
      ]
    },
    {
      "cell_type": "markdown",
      "source": [
        "# Practica 1: Paralelizacion.\n",
        "\n",
        "## Parte 1: Investigar sobre las lazy variables y como se usa el Delay para problemas mas grandes.\n"
      ],
      "metadata": {
        "id": "OLn2yACwiWUH"
      }
    },
    {
      "cell_type": "markdown",
      "source": [
        "\"Lazy Variable\" o variable perezosa es una variable que se inicializa solo cuando se llama por primera vez.\n",
        "Esta técnica se utiliza para mejorar el rendimiento y la eficiencia de los programas, ya que puede ahorrar tiempo y recursos al no calcular o inicializar valores que nunca se utilizarán.\n",
        "\n",
        "\n",
        "Ejemplo de su uso:"
      ],
      "metadata": {
        "id": "iZcAzmrigFGN"
      }
    },
    {
      "cell_type": "code",
      "source": [
        "from functools import lru_cache\n",
        "\n",
        "class Person:\n",
        "    def __init__(self, weight, height):\n",
        "        self.weight = weight\n",
        "        self.height = height\n",
        "\n",
        "    @property\n",
        "    @lru_cache(maxsize=None)\n",
        "    def BMIIndex(self):\n",
        "        print(\"Calculando el índice de masa corporal...\")\n",
        "        return self.weight / pow(self.height, 2)\n",
        "\n",
        "# Crear una instancia de la clase Person\n",
        "person = Person(70.0, 1.75)\n",
        "\n",
        "# Acceder a la propiedad perezosa BMIIndex\n",
        "print(person.BMIIndex)"
      ],
      "metadata": {
        "id": "KdWvj9EV4K8Y"
      },
      "execution_count": null,
      "outputs": []
    },
    {
      "cell_type": "markdown",
      "source": [
        "\n",
        "En programación, existen diferentes tipos de variables \"lazy\" o perezosas, que se utilizan en diferentes contextos y para diferentes propósitos. Algunos de los tipos más comunes de variables \"lazy\" son:"
      ],
      "metadata": {
        "id": "4j8kYqbo4DcI"
      }
    },
    {
      "cell_type": "markdown",
      "source": [
        "**1.   Lazy evaluation**\n",
        " \n",
        "> Se utiliza en lenguajes de programación que tienen una evaluación perezosa, donde las expresiones no se evalúan hasta que se utilizan. Esto significa que los valores solo se calculan cuando es necesario, lo que puede mejorar el rendimiento y la eficiencia del programa."
      ],
      "metadata": {
        "id": "qbzCcMSigKvW"
      }
    },
    {
      "cell_type": "markdown",
      "source": [
        "\n",
        "\n",
        "**2.   Lazy initialization**\n",
        "\n",
        "\n",
        "> Se utiliza para retrasar la inicialización de una variable hasta que sea necesaria. Por ejemplo, una variable que se utiliza raramente puede inicializarse perezosamente para evitar la sobrecarga de la inicialización al inicio del programa.\n",
        "\n"
      ],
      "metadata": {
        "id": "Mq_Rnd0EfDFS"
      }
    },
    {
      "cell_type": "markdown",
      "source": [
        "\n",
        "**3.    Lazy loading**\n",
        "\n",
        "\n",
        "> Se utiliza para cargar datos o recursos solo cuando son necesarios. Por ejemplo, en una aplicación web, se pueden cargar imágenes o archivos solo cuando se muestran en la página web, lo que mejora el rendimiento y la "
      ],
      "metadata": {
        "id": "W6xNFMbWgCzb"
      }
    },
    {
      "cell_type": "markdown",
      "source": [
        "\n",
        "**4.   Memorization**\n",
        "\n",
        "> Se utiliza para almacenar el resultado de una función costosa en caché y devolver el resultado almacenado en lugar de volver a calcularlo cuando se llama a la función con los mismos parámetros. Esto mejora significativamente el rendimiento de la función en llamadas repetidas con los mismos parámetros."
      ],
      "metadata": {
        "id": "Zq97_TFdgSUe"
      }
    },
    {
      "cell_type": "markdown",
      "source": [
        "\n",
        "**5.   Thunk**\n",
        "\n",
        "\n",
        "> Es una función que se utiliza para retrasar la evaluación de una expresión hasta que sea necesaria. El término \"thunk\" proviene de la combinación de \"think\" y \"chunk\", ya que la función se utiliza para pensar en una porción de código y evaluarla solo cuando sea necesario.\n",
        "\n"
      ],
      "metadata": {
        "id": "Z9h7fFA-gWEG"
      }
    },
    {
      "cell_type": "markdown",
      "source": [
        "Uso de Delay"
      ],
      "metadata": {
        "id": "glw0HBSb3P4x"
      }
    },
    {
      "cell_type": "markdown",
      "source": [
        "## Parte 2: Generen varias funciones y construyan un grafo de paralelización con al menos 4 cuellos de botella.\n",
        "\n"
      ],
      "metadata": {
        "id": "czmVlAgYiXzm"
      }
    },
    {
      "cell_type": "markdown",
      "source": [
        "El código genera un ticket de compra en el que se procesa el registro de venta."
      ],
      "metadata": {
        "id": "5mqwyubtx48T"
      }
    },
    {
      "cell_type": "code",
      "source": [
        "import dask.delayed as delayed\n",
        "from dask.diagnostics import ProgressBar\n",
        "import time\n",
        "import numpy as np\n",
        "import random"
      ],
      "metadata": {
        "id": "vRU-U8xS17ln"
      },
      "execution_count": null,
      "outputs": []
    },
    {
      "cell_type": "code",
      "source": [
        "class OrderLine():\n",
        "  taxes = 0\n",
        "  total = 0\n",
        "  subtotal = 0\n",
        "  type = 1\n",
        "\n",
        "  def calculate_taxes(self):\n",
        "    tax = 0.32 if self.type == 1 else 0.16\n",
        "    self.taxes = self.subtotal * tax\n",
        "\n",
        "  def round_taxes(self):\n",
        "    self.taxes = round(self.taxes, 2)\n",
        "\n",
        "  def calculate_total(self):\n",
        "    self.total = self.subtotal + self.taxes"
      ],
      "metadata": {
        "id": "a1hBzH1Itrqc"
      },
      "execution_count": null,
      "outputs": []
    },
    {
      "cell_type": "code",
      "source": [
        "orders = []\n",
        "for n in range(1):\n",
        "  orders.append(OrderLine())"
      ],
      "metadata": {
        "id": "ojQ1seCHt3_7"
      },
      "execution_count": null,
      "outputs": []
    },
    {
      "cell_type": "code",
      "source": [
        "def read_line():\n",
        "  orders.append(OrderLine())\n",
        "\n",
        "def calculate_taxes(order):\n",
        "  order.calculate_taxes()\n",
        "\n",
        "def round_taxes(order):\n",
        "  order.round_taxes()\n",
        "\n",
        "def calculate_total(order):\n",
        "  order.calculate_total()"
      ],
      "metadata": {
        "id": "zX6fANLWM-Z9"
      },
      "execution_count": null,
      "outputs": []
    },
    {
      "cell_type": "code",
      "source": [
        "step0 = [delayed(read_line)() for i in range(5)]\n",
        "total0 = delayed(sum)(step0)\n",
        "\n",
        "\n",
        "step1 = [delayed(calculate_taxes)(j) for j in step0]\n",
        "total = delayed(sum)(step1)\n",
        "\n",
        "data2 = [delayed(round_taxes)(k, total) for k in orders]\n",
        "total2 = delayed(sum)(data2)\n",
        "\n",
        "data3 = [delayed(calculate_total)(l, total2) for l in orders]\n",
        "total3 = delayed(sum)(data3)\n",
        "total3.visualize()"
      ],
      "metadata": {
        "id": "qcip6Vq_Ll9-"
      },
      "execution_count": null,
      "outputs": []
    },
    {
      "cell_type": "markdown",
      "source": [
        "\n",
        "Extra challenge: Buscar ensemble learning en Scikit learn, utilizar minimo 3 algoritmos de machine learning para crear un modelo paralelo basado en un ensamble. Generar uno con dask y otro con la libreria de ensemble de sklearn, y comparar resultados. "
      ],
      "metadata": {
        "id": "CdxDq_pQ1ced"
      }
    },
    {
      "cell_type": "markdown",
      "source": [
        "1. Random forest"
      ],
      "metadata": {
        "id": "2mPXb-N88-uo"
      }
    },
    {
      "cell_type": "code",
      "source": [
        "from sklearn.datasets import load_iris\n",
        "from sklearn.ensemble import RandomForestClassifier\n",
        "from sklearn.model_selection import train_test_split\n",
        "\n",
        "# Carga los datos de flores de iris\n",
        "iris = load_iris()\n",
        "\n",
        "# Divide los datos en conjuntos de entrenamiento y prueba\n",
        "X_train, X_test, y_train, y_test = train_test_split(iris.data, iris.target, test_size=0.2, random_state=42)\n",
        "\n",
        "# Crea una instancia del clasificador Random Forest\n",
        "rfc = RandomForestClassifier(n_estimators=100, random_state=42)\n",
        "\n",
        "# Entrena el modelo con los datos de entrenamiento\n",
        "rfc.fit(X_train, y_train)\n",
        "\n",
        "# Realiza predicciones en los datos de prueba\n",
        "y_pred = rfc.predict(X_test)\n",
        "\n",
        "# Evalúa la precisión del modelo en los datos de prueba\n",
        "accuracy = rfc.score(X_test, y_test)\n",
        "print(f\"Accuracy: {accuracy}\")\n",
        "\n"
      ],
      "metadata": {
        "id": "cmsUQT0b9YUm"
      },
      "execution_count": null,
      "outputs": []
    },
    {
      "cell_type": "code",
      "source": [
        "!pip install \"dask[complete]\" dask-ml\n",
        "!pip install joblib"
      ],
      "metadata": {
        "id": "eHnAo8MeMZEd"
      },
      "execution_count": null,
      "outputs": []
    },
    {
      "cell_type": "code",
      "source": [
        "from sklearn.datasets import load_iris\n",
        "from sklearn.ensemble import RandomForestClassifier\n",
        "from sklearn.model_selection import train_test_split\n",
        "import dask_ml.joblib as dask_joblib\n",
        "\n",
        "# Carga los datos de flores de iris\n",
        "iris = load_iris()\n",
        "\n",
        "# Divide los datos en conjuntos de entrenamiento y prueba\n",
        "X_train, X_test, y_train, y_test = train_test_split(iris.data, iris.target, test_size=0.2, random_state=42)\n",
        "\n",
        "# Crea una instancia del clasificador Random Forest\n",
        "rfc = RandomForestClassifier(n_estimators=100, random_state=42)\n",
        "\n",
        "# Entrena el modelo con los datos de entrenamiento utilizando Dask\n",
        "with dask_joblib.parallel_backend('dask'):\n",
        "    rfc.fit(X_train, y_train)\n",
        "\n",
        "# Realiza predicciones en los datos de prueba\n",
        "y_pred = rfc.predict(X_test)\n",
        "\n",
        "# Evalúa la precisión del modelo en los datos de prueba\n",
        "accuracy = rfc.score(X_test, y_test)\n",
        "print(f\"Accuracy: {accuracy}\")\n"
      ],
      "metadata": {
        "id": "DQ-y4DmpL6Ba"
      },
      "execution_count": null,
      "outputs": []
    }
  ]
}