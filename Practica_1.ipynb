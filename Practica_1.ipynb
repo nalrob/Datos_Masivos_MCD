{
  "nbformat": 4,
  "nbformat_minor": 0,
  "metadata": {
    "colab": {
      "provenance": [],
      "authorship_tag": "ABX9TyOJTXKVLISaQ24ronHcT7/w",
      "include_colab_link": true
    },
    "kernelspec": {
      "name": "python3",
      "display_name": "Python 3"
    },
    "language_info": {
      "name": "python"
    }
  },
  "cells": [
    {
      "cell_type": "markdown",
      "metadata": {
        "id": "view-in-github",
        "colab_type": "text"
      },
      "source": [
        "<a href=\"https://colab.research.google.com/github/nalrob/Datos_Masivos_MCD/blob/main/Practica_1.ipynb\" target=\"_parent\"><img src=\"https://colab.research.google.com/assets/colab-badge.svg\" alt=\"Open In Colab\"/></a>"
      ]
    },
    {
      "cell_type": "markdown",
      "source": [
        "# Practica 1: Paralelizacion.\n",
        "\n",
        "## Parte 1: Investigar sobre las lazy variables y como se usa el Delay para problemas mas grandes.\n"
      ],
      "metadata": {
        "id": "OLn2yACwiWUH"
      }
    },
    {
      "cell_type": "markdown",
      "source": [
        "\"Lazy Variable\" o variable perezosa es una variable que se inicializa solo cuando se llama por primera vez.\n",
        "Esta técnica se utiliza para mejorar el rendimiento y la eficiencia de los programas, ya que puede ahorrar tiempo y recursos al no calcular o inicializar valores que nunca se utilizarán.\n",
        "\n",
        "\n",
        "Ejemplo de su uso:"
      ],
      "metadata": {
        "id": "iZcAzmrigFGN"
      }
    },
    {
      "cell_type": "code",
      "source": [
        "from functools import lru_cache\n",
        "\n",
        "class Person:\n",
        "    def __init__(self, weight, height):\n",
        "        self.weight = weight\n",
        "        self.height = height\n",
        "\n",
        "    @property\n",
        "    @lru_cache(maxsize=None)\n",
        "    def BMIIndex(self):\n",
        "        print(\"Calculando el índice de masa corporal...\")\n",
        "        return self.weight / pow(self.height, 2)\n",
        "\n",
        "# Crear una instancia de la clase Person\n",
        "person = Person(70.0, 1.75)\n",
        "\n",
        "# Acceder a la propiedad perezosa BMIIndex\n",
        "print(person.BMIIndex)"
      ],
      "metadata": {
        "colab": {
          "base_uri": "https://localhost:8080/"
        },
        "id": "KdWvj9EV4K8Y",
        "outputId": "3d70163f-3500-4f50-f5ab-8b8bcdcb74d1"
      },
      "execution_count": null,
      "outputs": [
        {
          "output_type": "stream",
          "name": "stdout",
          "text": [
            "Calculando el índice de masa corporal...\n",
            "22.857142857142858\n"
          ]
        }
      ]
    },
    {
      "cell_type": "markdown",
      "source": [
        "\n",
        "En programación, existen diferentes tipos de variables \"lazy\" o perezosas, que se utilizan en diferentes contextos y para diferentes propósitos. Algunos de los tipos más comunes de variables \"lazy\" son:"
      ],
      "metadata": {
        "id": "4j8kYqbo4DcI"
      }
    },
    {
      "cell_type": "markdown",
      "source": [
        "**1.   Lazy evaluation**\n",
        " \n",
        "> Se utiliza en lenguajes de programación que tienen una evaluación perezosa, donde las expresiones no se evalúan hasta que se utilizan. Esto significa que los valores solo se calculan cuando es necesario, lo que puede mejorar el rendimiento y la eficiencia del programa."
      ],
      "metadata": {
        "id": "qbzCcMSigKvW"
      }
    },
    {
      "cell_type": "markdown",
      "source": [
        "\n",
        "\n",
        "**2.   Lazy initialization**\n",
        "\n",
        "\n",
        "> Se utiliza para retrasar la inicialización de una variable hasta que sea necesaria. Por ejemplo, una variable que se utiliza raramente puede inicializarse perezosamente para evitar la sobrecarga de la inicialización al inicio del programa.\n",
        "\n"
      ],
      "metadata": {
        "id": "Mq_Rnd0EfDFS"
      }
    },
    {
      "cell_type": "markdown",
      "source": [
        "\n",
        "**3.    Lazy loading**\n",
        "\n",
        "\n",
        "> Se utiliza para cargar datos o recursos solo cuando son necesarios. Por ejemplo, en una aplicación web, se pueden cargar imágenes o archivos solo cuando se muestran en la página web, lo que mejora el rendimiento y la "
      ],
      "metadata": {
        "id": "W6xNFMbWgCzb"
      }
    },
    {
      "cell_type": "markdown",
      "source": [
        "\n",
        "**4.   Memorization**\n",
        "\n",
        "> Se utiliza para almacenar el resultado de una función costosa en caché y devolver el resultado almacenado en lugar de volver a calcularlo cuando se llama a la función con los mismos parámetros. Esto mejora significativamente el rendimiento de la función en llamadas repetidas con los mismos parámetros."
      ],
      "metadata": {
        "id": "Zq97_TFdgSUe"
      }
    },
    {
      "cell_type": "markdown",
      "source": [
        "\n",
        "**5.   Thunk**\n",
        "\n",
        "\n",
        "> Es una función que se utiliza para retrasar la evaluación de una expresión hasta que sea necesaria. El término \"thunk\" proviene de la combinación de \"think\" y \"chunk\", ya que la función se utiliza para pensar en una porción de código y evaluarla solo cuando sea necesario.\n",
        "\n"
      ],
      "metadata": {
        "id": "Z9h7fFA-gWEG"
      }
    },
    {
      "cell_type": "markdown",
      "source": [
        "## Parte 2: Generen varias funciones y construyan un grafo de paralelización con al menos 4 cuellos de botella.\n",
        "\n"
      ],
      "metadata": {
        "id": "czmVlAgYiXzm"
      }
    },
    {
      "cell_type": "markdown",
      "source": [
        "El código genera un ticket de compra en el que se procesa el registro de venta."
      ],
      "metadata": {
        "id": "5mqwyubtx48T"
      }
    },
    {
      "cell_type": "code",
      "source": [
        "import dask.delayed as delayed\n",
        "from dask.diagnostics import ProgressBar\n",
        "import time\n",
        "import numpy as np\n",
        "import random"
      ],
      "metadata": {
        "id": "vRU-U8xS17ln"
      },
      "execution_count": null,
      "outputs": []
    },
    {
      "cell_type": "code",
      "source": [
        "class OrderLine():\n",
        "  taxes = 0\n",
        "  total = 0\n",
        "  subtotal = 0\n",
        "  type = 1\n",
        "\n",
        "  def __init__(self):\n",
        "    self.subtotal = random.randint(100, 5000)\n",
        "    self.type =random.randint(1,3)\n",
        "\n",
        "  def calculate_taxes(self):\n",
        "    tax = 0.32 if self.type == 1 else 0.16\n",
        "    self.taxes = self.subtotal * tax\n",
        "\n",
        "  def round_taxes(self):\n",
        "    self.taxes = round(self.taxes, 2)\n",
        "\n",
        "  def calculate_total(self):\n",
        "    self.total = self.subtotal + self.taxes"
      ],
      "metadata": {
        "id": "a1hBzH1Itrqc"
      },
      "execution_count": null,
      "outputs": []
    },
    {
      "cell_type": "code",
      "source": [
        "orders = []\n",
        "for n in range(1000):\n",
        "  orders.append(OrderLine())"
      ],
      "metadata": {
        "id": "ojQ1seCHt3_7"
      },
      "execution_count": null,
      "outputs": []
    },
    {
      "cell_type": "markdown",
      "source": [
        "1 Cuello de botella: Calcular Sumatoria de subtotal\n"
      ],
      "metadata": {
        "id": "MnfAmZHTt7M-"
      }
    },
    {
      "cell_type": "code",
      "source": [
        "for order in orders:\n",
        "  order.round_taxes()"
      ],
      "metadata": {
        "id": "vlV9FX-DuO2o"
      },
      "execution_count": null,
      "outputs": []
    },
    {
      "cell_type": "code",
      "source": [
        "\n",
        "\n",
        "#CB 1\n",
        "def calculate_taxes(x):\n",
        "    tax = 0.32 if type == 1 else 0.16\n",
        "    taxes = x * tax\n",
        "    return taxes\n",
        "\n",
        "\n",
        "#CB 2\n",
        "def round_taxes(x):\n",
        "    r_taxes= round(taxes, 2) \n",
        "    return r_taxes\n",
        "\n",
        "#CB 3 \n",
        "\n",
        "def calculate_total(self):\n",
        "    total = r_taxes + data\n",
        "  "
      ],
      "metadata": {
        "id": "L6Xqdw3I2Oiu"
      },
      "execution_count": null,
      "outputs": []
    },
    {
      "cell_type": "code",
      "source": [
        "step1 = [delayed(calculate_taxes)(i) for i in data]\n",
        "step2 = [delayed(round_taxes)(k) for k in data]\n",
        "total = delayed(sum)(step2)\n"
      ],
      "metadata": {
        "id": "btdFoh9H-ZVF"
      },
      "execution_count": null,
      "outputs": []
    },
    {
      "cell_type": "code",
      "source": [
        "step1 = [delayed(calculate_taxes)(i) for i in data]"
      ],
      "metadata": {
        "id": "qcip6Vq_Ll9-"
      },
      "execution_count": null,
      "outputs": []
    },
    {
      "cell_type": "markdown",
      "source": [
        "2 Cuello de botella: Calcular Sumatoria de taxes\n"
      ],
      "metadata": {
        "id": "eLCayU0et-pE"
      }
    },
    {
      "cell_type": "code",
      "source": [
        "for order in orders:\n",
        "  order.round_taxes()"
      ],
      "metadata": {
        "id": "ZQgcOKH3uUjJ"
      },
      "execution_count": null,
      "outputs": []
    },
    {
      "cell_type": "markdown",
      "source": [
        "3 Cuello de botella: Calcular Sumatoria de taxes redondeados\n"
      ],
      "metadata": {
        "id": "_LwkPtlXuD00"
      }
    },
    {
      "cell_type": "code",
      "source": [
        "for order in orders:\n",
        "  order.calculate_total()"
      ],
      "metadata": {
        "id": "_eBKZZXXuRPw"
      },
      "execution_count": null,
      "outputs": []
    },
    {
      "cell_type": "markdown",
      "source": [
        "4 Cuello de botella: Calcular Sumatoria de total"
      ],
      "metadata": {
        "id": "QdQ0R1WJuDjZ"
      }
    },
    {
      "cell_type": "code",
      "source": [
        "orders[100].subtotal"
      ],
      "metadata": {
        "colab": {
          "base_uri": "https://localhost:8080/"
        },
        "id": "caG3v2s0uWvH",
        "outputId": "ba5bcb41-5219-4fbd-c3e3-ab20106285e1"
      },
      "execution_count": null,
      "outputs": [
        {
          "output_type": "execute_result",
          "data": {
            "text/plain": [
              "3739"
            ]
          },
          "metadata": {},
          "execution_count": 21
        }
      ]
    },
    {
      "cell_type": "markdown",
      "source": [
        "\n",
        "Extra challenge: Buscar ensemble learning en Scikit learn, utilizar minimo 3 algoritmos de machine learning para crear un modelo paralelo basado en un ensamble. Generar uno con dask y otro con la libreria de ensemble de sklearn, y comparar resultados. "
      ],
      "metadata": {
        "id": "YxcSYvFhiaKH"
      }
    }
  ]
}